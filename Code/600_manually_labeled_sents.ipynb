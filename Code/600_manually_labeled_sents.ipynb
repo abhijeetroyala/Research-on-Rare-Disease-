{
 "cells": [
  {
   "cell_type": "code",
   "execution_count": 1,
   "metadata": {},
   "outputs": [],
   "source": [
    "import sklearn"
   ]
  },
  {
   "cell_type": "code",
   "execution_count": 2,
   "metadata": {},
   "outputs": [],
   "source": [
    "import pandas as pd"
   ]
  },
  {
   "cell_type": "code",
   "execution_count": 10,
   "metadata": {},
   "outputs": [],
   "source": [
    "x=pd.read_csv(\"600_manually_labeled_sents.csv\",encoding='utf-8')"
   ]
  },
  {
   "cell_type": "code",
   "execution_count": 42,
   "metadata": {},
   "outputs": [
    {
     "data": {
      "text/html": [
       "<div>\n",
       "<style scoped>\n",
       "    .dataframe tbody tr th:only-of-type {\n",
       "        vertical-align: middle;\n",
       "    }\n",
       "\n",
       "    .dataframe tbody tr th {\n",
       "        vertical-align: top;\n",
       "    }\n",
       "\n",
       "    .dataframe thead th {\n",
       "        text-align: right;\n",
       "    }\n",
       "</style>\n",
       "<table border=\"1\" class=\"dataframe\">\n",
       "  <thead>\n",
       "    <tr style=\"text-align: right;\">\n",
       "      <th></th>\n",
       "      <th>true_label</th>\n",
       "      <th>true_sent</th>\n",
       "      <th>pred_label</th>\n",
       "      <th>pres_sent</th>\n",
       "    </tr>\n",
       "  </thead>\n",
       "  <tbody>\n",
       "    <tr>\n",
       "      <td>0</td>\n",
       "      <td>1.0</td>\n",
       "      <td>Brocho-biliary fistula: A rare complication af...</td>\n",
       "      <td>1.0</td>\n",
       "      <td>Brocho-biliary fistula: A rare complication af...</td>\n",
       "    </tr>\n",
       "    <tr>\n",
       "      <td>1</td>\n",
       "      <td>0.0</td>\n",
       "      <td>Reptile-associated Borrelia spp. In Amblyomma ...</td>\n",
       "      <td>0.0</td>\n",
       "      <td>Reptile-associated Borrelia spp. In Amblyomma ...</td>\n",
       "    </tr>\n",
       "    <tr>\n",
       "      <td>2</td>\n",
       "      <td>0.0</td>\n",
       "      <td>Expanded programme on immunization (EPI). Incl...</td>\n",
       "      <td>0.0</td>\n",
       "      <td>Expanded programme on immunization (EPI). Incl...</td>\n",
       "    </tr>\n",
       "    <tr>\n",
       "      <td>3</td>\n",
       "      <td>1.0</td>\n",
       "      <td>Roles of PKC and phospho-adducin in transepith...</td>\n",
       "      <td>1.0</td>\n",
       "      <td>Roles of PKC and phospho-adducin in transepith...</td>\n",
       "    </tr>\n",
       "    <tr>\n",
       "      <td>4</td>\n",
       "      <td>0.0</td>\n",
       "      <td>Health advice for the international traveler.</td>\n",
       "      <td>0.0</td>\n",
       "      <td>Health advice for the international traveler.</td>\n",
       "    </tr>\n",
       "    <tr>\n",
       "      <td>...</td>\n",
       "      <td>...</td>\n",
       "      <td>...</td>\n",
       "      <td>...</td>\n",
       "      <td>...</td>\n",
       "    </tr>\n",
       "    <tr>\n",
       "      <td>607</td>\n",
       "      <td>1.0</td>\n",
       "      <td>Dietary Vitamin E Status Dictates Oxidative St...</td>\n",
       "      <td>NaN</td>\n",
       "      <td>NaN</td>\n",
       "    </tr>\n",
       "    <tr>\n",
       "      <td>608</td>\n",
       "      <td>1.0</td>\n",
       "      <td>The proof-of-concept of ASS234: Peripherally a...</td>\n",
       "      <td>NaN</td>\n",
       "      <td>NaN</td>\n",
       "    </tr>\n",
       "    <tr>\n",
       "      <td>609</td>\n",
       "      <td>0.0</td>\n",
       "      <td>Exploring the selective vulnerability in Alzhe...</td>\n",
       "      <td>NaN</td>\n",
       "      <td>NaN</td>\n",
       "    </tr>\n",
       "    <tr>\n",
       "      <td>610</td>\n",
       "      <td>1.0</td>\n",
       "      <td>The Impact of Awareness of and Concern About M...</td>\n",
       "      <td>NaN</td>\n",
       "      <td>NaN</td>\n",
       "    </tr>\n",
       "    <tr>\n",
       "      <td>611</td>\n",
       "      <td>1.0</td>\n",
       "      <td>Association of Cerebrospinal Fluid Neurofilame...</td>\n",
       "      <td>NaN</td>\n",
       "      <td>NaN</td>\n",
       "    </tr>\n",
       "  </tbody>\n",
       "</table>\n",
       "<p>612 rows × 4 columns</p>\n",
       "</div>"
      ],
      "text/plain": [
       "     true_label                                          true_sent  \\\n",
       "0           1.0  Brocho-biliary fistula: A rare complication af...   \n",
       "1           0.0  Reptile-associated Borrelia spp. In Amblyomma ...   \n",
       "2           0.0  Expanded programme on immunization (EPI). Incl...   \n",
       "3           1.0  Roles of PKC and phospho-adducin in transepith...   \n",
       "4           0.0      Health advice for the international traveler.   \n",
       "..          ...                                                ...   \n",
       "607         1.0  Dietary Vitamin E Status Dictates Oxidative St...   \n",
       "608         1.0  The proof-of-concept of ASS234: Peripherally a...   \n",
       "609         0.0  Exploring the selective vulnerability in Alzhe...   \n",
       "610         1.0  The Impact of Awareness of and Concern About M...   \n",
       "611         1.0  Association of Cerebrospinal Fluid Neurofilame...   \n",
       "\n",
       "     pred_label                                          pres_sent  \n",
       "0           1.0  Brocho-biliary fistula: A rare complication af...  \n",
       "1           0.0  Reptile-associated Borrelia spp. In Amblyomma ...  \n",
       "2           0.0  Expanded programme on immunization (EPI). Incl...  \n",
       "3           1.0  Roles of PKC and phospho-adducin in transepith...  \n",
       "4           0.0      Health advice for the international traveler.  \n",
       "..          ...                                                ...  \n",
       "607         NaN                                                NaN  \n",
       "608         NaN                                                NaN  \n",
       "609         NaN                                                NaN  \n",
       "610         NaN                                                NaN  \n",
       "611         NaN                                                NaN  \n",
       "\n",
       "[612 rows x 4 columns]"
      ]
     },
     "execution_count": 42,
     "metadata": {},
     "output_type": "execute_result"
    }
   ],
   "source": [
    "x"
   ]
  },
  {
   "cell_type": "code",
   "execution_count": 43,
   "metadata": {},
   "outputs": [
    {
     "data": {
      "text/plain": [
       "0.75"
      ]
     },
     "execution_count": 43,
     "metadata": {},
     "output_type": "execute_result"
    }
   ],
   "source": [
    "from sklearn.metrics import cohen_kappa_score\n",
    "y_true = [2, 0, 2, 2, 0, 1]\n",
    "y_pred = [1, 0, 2, 2, 0, 1]\n",
    "cohen_kappa_score(y_true, y_pred)"
   ]
  },
  {
   "cell_type": "code",
   "execution_count": 44,
   "metadata": {},
   "outputs": [
    {
     "data": {
      "text/plain": [
       "0      1.0\n",
       "1      0.0\n",
       "2      0.0\n",
       "3      1.0\n",
       "4      0.0\n",
       "      ... \n",
       "607    1.0\n",
       "608    1.0\n",
       "609    0.0\n",
       "610    1.0\n",
       "611    1.0\n",
       "Name: true_label, Length: 612, dtype: float64"
      ]
     },
     "execution_count": 44,
     "metadata": {},
     "output_type": "execute_result"
    }
   ],
   "source": [
    "x['true_label']"
   ]
  },
  {
   "cell_type": "code",
   "execution_count": 38,
   "metadata": {},
   "outputs": [],
   "source": [
    "y=x.dropna(0)"
   ]
  },
  {
   "cell_type": "code",
   "execution_count": 46,
   "metadata": {},
   "outputs": [
    {
     "data": {
      "text/html": [
       "<div>\n",
       "<style scoped>\n",
       "    .dataframe tbody tr th:only-of-type {\n",
       "        vertical-align: middle;\n",
       "    }\n",
       "\n",
       "    .dataframe tbody tr th {\n",
       "        vertical-align: top;\n",
       "    }\n",
       "\n",
       "    .dataframe thead th {\n",
       "        text-align: right;\n",
       "    }\n",
       "</style>\n",
       "<table border=\"1\" class=\"dataframe\">\n",
       "  <thead>\n",
       "    <tr style=\"text-align: right;\">\n",
       "      <th></th>\n",
       "      <th>true_label</th>\n",
       "      <th>true_sent</th>\n",
       "      <th>pred_label</th>\n",
       "      <th>pres_sent</th>\n",
       "    </tr>\n",
       "  </thead>\n",
       "  <tbody>\n",
       "    <tr>\n",
       "      <td>0</td>\n",
       "      <td>1.0</td>\n",
       "      <td>Brocho-biliary fistula: A rare complication af...</td>\n",
       "      <td>1.0</td>\n",
       "      <td>Brocho-biliary fistula: A rare complication af...</td>\n",
       "    </tr>\n",
       "    <tr>\n",
       "      <td>1</td>\n",
       "      <td>0.0</td>\n",
       "      <td>Reptile-associated Borrelia spp. In Amblyomma ...</td>\n",
       "      <td>0.0</td>\n",
       "      <td>Reptile-associated Borrelia spp. In Amblyomma ...</td>\n",
       "    </tr>\n",
       "    <tr>\n",
       "      <td>2</td>\n",
       "      <td>0.0</td>\n",
       "      <td>Expanded programme on immunization (EPI). Incl...</td>\n",
       "      <td>0.0</td>\n",
       "      <td>Expanded programme on immunization (EPI). Incl...</td>\n",
       "    </tr>\n",
       "    <tr>\n",
       "      <td>3</td>\n",
       "      <td>1.0</td>\n",
       "      <td>Roles of PKC and phospho-adducin in transepith...</td>\n",
       "      <td>1.0</td>\n",
       "      <td>Roles of PKC and phospho-adducin in transepith...</td>\n",
       "    </tr>\n",
       "    <tr>\n",
       "      <td>4</td>\n",
       "      <td>0.0</td>\n",
       "      <td>Health advice for the international traveler.</td>\n",
       "      <td>0.0</td>\n",
       "      <td>Health advice for the international traveler.</td>\n",
       "    </tr>\n",
       "    <tr>\n",
       "      <td>...</td>\n",
       "      <td>...</td>\n",
       "      <td>...</td>\n",
       "      <td>...</td>\n",
       "      <td>...</td>\n",
       "    </tr>\n",
       "    <tr>\n",
       "      <td>497</td>\n",
       "      <td>1.0</td>\n",
       "      <td>Potential Role of Aminoprocalcitonin in the Pa...</td>\n",
       "      <td>1.0</td>\n",
       "      <td>Potential Role of Aminoprocalcitonin in the Pa...</td>\n",
       "    </tr>\n",
       "    <tr>\n",
       "      <td>498</td>\n",
       "      <td>0.0</td>\n",
       "      <td>Active Vaccines for Alzheimer Disease Treatment.</td>\n",
       "      <td>1.0</td>\n",
       "      <td>Active Vaccines for Alzheimer Disease Treatment.</td>\n",
       "    </tr>\n",
       "    <tr>\n",
       "      <td>499</td>\n",
       "      <td>1.0</td>\n",
       "      <td>Thal Amyloid Stages Do Not Significantly Impac...</td>\n",
       "      <td>1.0</td>\n",
       "      <td>Thal Amyloid Stages Do Not Significantly Impac...</td>\n",
       "    </tr>\n",
       "    <tr>\n",
       "      <td>500</td>\n",
       "      <td>1.0</td>\n",
       "      <td>Protective properties of lysozyme on β-amyloid...</td>\n",
       "      <td>0.0</td>\n",
       "      <td>Protective properties of lysozyme on β-amyloid...</td>\n",
       "    </tr>\n",
       "    <tr>\n",
       "      <td>501</td>\n",
       "      <td>1.0</td>\n",
       "      <td>Predictors of family caregiver ratings of pati...</td>\n",
       "      <td>1.0</td>\n",
       "      <td>Predictors of family caregiver ratings of pati...</td>\n",
       "    </tr>\n",
       "  </tbody>\n",
       "</table>\n",
       "<p>307 rows × 4 columns</p>\n",
       "</div>"
      ],
      "text/plain": [
       "     true_label                                          true_sent  \\\n",
       "0           1.0  Brocho-biliary fistula: A rare complication af...   \n",
       "1           0.0  Reptile-associated Borrelia spp. In Amblyomma ...   \n",
       "2           0.0  Expanded programme on immunization (EPI). Incl...   \n",
       "3           1.0  Roles of PKC and phospho-adducin in transepith...   \n",
       "4           0.0      Health advice for the international traveler.   \n",
       "..          ...                                                ...   \n",
       "497         1.0  Potential Role of Aminoprocalcitonin in the Pa...   \n",
       "498         0.0   Active Vaccines for Alzheimer Disease Treatment.   \n",
       "499         1.0  Thal Amyloid Stages Do Not Significantly Impac...   \n",
       "500         1.0  Protective properties of lysozyme on β-amyloid...   \n",
       "501         1.0  Predictors of family caregiver ratings of pati...   \n",
       "\n",
       "     pred_label                                          pres_sent  \n",
       "0           1.0  Brocho-biliary fistula: A rare complication af...  \n",
       "1           0.0  Reptile-associated Borrelia spp. In Amblyomma ...  \n",
       "2           0.0  Expanded programme on immunization (EPI). Incl...  \n",
       "3           1.0  Roles of PKC and phospho-adducin in transepith...  \n",
       "4           0.0      Health advice for the international traveler.  \n",
       "..          ...                                                ...  \n",
       "497         1.0  Potential Role of Aminoprocalcitonin in the Pa...  \n",
       "498         1.0   Active Vaccines for Alzheimer Disease Treatment.  \n",
       "499         1.0  Thal Amyloid Stages Do Not Significantly Impac...  \n",
       "500         0.0  Protective properties of lysozyme on β-amyloid...  \n",
       "501         1.0  Predictors of family caregiver ratings of pati...  \n",
       "\n",
       "[307 rows x 4 columns]"
      ]
     },
     "execution_count": 46,
     "metadata": {},
     "output_type": "execute_result"
    }
   ],
   "source": [
    "y"
   ]
  },
  {
   "cell_type": "code",
   "execution_count": 40,
   "metadata": {},
   "outputs": [
    {
     "data": {
      "text/plain": [
       "0.3926482162990066"
      ]
     },
     "execution_count": 40,
     "metadata": {},
     "output_type": "execute_result"
    }
   ],
   "source": [
    "cohen_kappa_score(y['true_label'],y['pred_label'])"
   ]
  },
  {
   "cell_type": "code",
   "execution_count": 53,
   "metadata": {},
   "outputs": [],
   "source": [
    "#yellow fever\n",
    "m_a=y.loc[0:108]"
   ]
  },
  {
   "cell_type": "code",
   "execution_count": 54,
   "metadata": {},
   "outputs": [
    {
     "data": {
      "text/plain": [
       "0.4678734831907698"
      ]
     },
     "execution_count": 54,
     "metadata": {},
     "output_type": "execute_result"
    }
   ],
   "source": [
    "cohen_kappa_score(m_l['true_label'],m_l['pred_label'])"
   ]
  },
  {
   "cell_type": "code",
   "execution_count": 58,
   "metadata": {},
   "outputs": [],
   "source": [
    "#diabetes\n",
    "a_l=y.loc[201:301]"
   ]
  },
  {
   "cell_type": "code",
   "execution_count": 59,
   "metadata": {},
   "outputs": [
    {
     "data": {
      "text/plain": [
       "0.32795698924731176"
      ]
     },
     "execution_count": 59,
     "metadata": {},
     "output_type": "execute_result"
    }
   ],
   "source": [
    "cohen_kappa_score(a_l['true_label'],a_l['pred_label'])"
   ]
  },
  {
   "cell_type": "code",
   "execution_count": 65,
   "metadata": {},
   "outputs": [],
   "source": [
    "#alzhimer's\n",
    "l_m=y.loc[402:501]"
   ]
  },
  {
   "cell_type": "code",
   "execution_count": 66,
   "metadata": {},
   "outputs": [
    {
     "data": {
      "text/plain": [
       "0.3147840531561461"
      ]
     },
     "execution_count": 66,
     "metadata": {},
     "output_type": "execute_result"
    }
   ],
   "source": [
    "cohen_kappa_score(l_m['true_label'],l_m['pred_label'])"
   ]
  },
  {
   "cell_type": "code",
   "execution_count": null,
   "metadata": {},
   "outputs": [],
   "source": []
  },
  {
   "cell_type": "code",
   "execution_count": 88,
   "metadata": {},
   "outputs": [
    {
     "data": {
      "text/plain": [
       "(214, 4)"
      ]
     },
     "execution_count": 88,
     "metadata": {},
     "output_type": "execute_result"
    }
   ],
   "source": [
    "y[(y['true_label']==y['pred_label'])].shape"
   ]
  },
  {
   "cell_type": "code",
   "execution_count": 76,
   "metadata": {},
   "outputs": [],
   "source": [
    "z=y[(y['true_label']==1)&(y['pred_label']==1)]"
   ]
  },
  {
   "cell_type": "code",
   "execution_count": 86,
   "metadata": {},
   "outputs": [
    {
     "data": {
      "text/plain": [
       "99"
      ]
     },
     "execution_count": 86,
     "metadata": {},
     "output_type": "execute_result"
    }
   ],
   "source": [
    "sentences=[]\n",
    "for i in z['true_sent']:\n",
    "    sentences.append(i)\n",
    "len(sentences)"
   ]
  },
  {
   "cell_type": "code",
   "execution_count": 87,
   "metadata": {},
   "outputs": [],
   "source": [
    "with open('matched_sentences.txt', 'w',encoding=\"utf-8\") as f:\n",
    "    for item in sentences:\n",
    "        f.write(\"%s\\n\" % item)"
   ]
  },
  {
   "cell_type": "code",
   "execution_count": null,
   "metadata": {},
   "outputs": [],
   "source": []
  }
 ],
 "metadata": {
  "kernelspec": {
   "display_name": "Python 3",
   "language": "python",
   "name": "python3"
  },
  "language_info": {
   "codemirror_mode": {
    "name": "ipython",
    "version": 3
   },
   "file_extension": ".py",
   "mimetype": "text/x-python",
   "name": "python",
   "nbconvert_exporter": "python",
   "pygments_lexer": "ipython3",
   "version": "3.7.4"
  }
 },
 "nbformat": 4,
 "nbformat_minor": 2
}
